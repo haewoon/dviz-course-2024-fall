{
 "cells": [
  {
   "cell_type": "markdown",
   "metadata": {},
   "source": [
    "<table class=\"m01-notebook-buttons\" align=\"left\">\n",
    "  <td>\n",
    "    <a target=\"_blank\" href=\"https://colab.research.google.com/github/haewoon/dviz-course/blob/master/docs/m01-intro/lab01.ipynb\"><img src=\"https://www.tensorflow.org/images/colab_logo_32px.png\" />Run in Google Colab</a>\n",
    "  </td>\n",
    "  <td>\n",
    "    <a href=\"https://haewoon.github.io/dviz-course-2024-fall/m01-intro/lab01/\"><img src=\"https://www.tensorflow.org/images/GitHub-Mark-32px.png\" />View on Github</a>\n",
    "  </td>\n",
    "  <td>\n",
    "    <a href=\"https://raw.githubusercontent.com/haewoon/dviz-course/master/docs/m01-intro/lab01.ipynb\"><img src=\"https://www.tensorflow.org/images/GitHub-Mark-32px.png\" />View raw on Github</a>\n",
    "  </td>\n",
    "</table>"
   ]
  },
  {
   "cell_type": "markdown",
   "metadata": {},
   "source": [
    "# Module 3: Fix it or break it!\n",
    "\n",
    "In this assignment, you choose to be either a good 😇 or a bad 😈 person. Follow the instruction below and submit your paper to Canvas.  \n",
    "\n",
    "## 😇\n",
    "\n",
    "Find a highly misleading visualization (you can have more than one!). Write a short paper (also feel free to publish in your blog or something) that \n",
    "\n",
    "- dissects and explains why the visualizations are misleading. \n",
    "- explains how the visualization can be fixed. \n",
    "- provides a fixed visualization (either hand-drawn or plotted with any tool)\n",
    "\n",
    "## 😈 \n",
    "\n",
    "Find a perfectly fine visualization (you can have more than one!). Write a short paper that \n",
    "\n",
    "- how can those visualization can be manipulated to mislead one way or the other\n",
    "- provides a manipulated version of the visualization (either hand-drawn or plotted with any tool) - the more malicious and subtle it is, the better!\n",
    "\n",
    "**NOTE:** For assignment, You are required to write a paper on one of the above two (good or bad) and not both but if you are interested, you can write for both.\n"
   ]
  },
  {
   "cell_type": "markdown",
   "metadata": {},
   "source": []
  }
 ],
 "metadata": {
  "kernelspec": {
   "display_name": "Python 3 (ipykernel)",
   "language": "python",
   "name": "python3"
  },
  "language_info": {
   "codemirror_mode": {
    "name": "ipython",
    "version": 3
   },
   "file_extension": ".py",
   "mimetype": "text/x-python",
   "name": "python",
   "nbconvert_exporter": "python",
   "pygments_lexer": "ipython3",
   "version": "3.11.3"
  }
 },
 "nbformat": 4,
 "nbformat_minor": 2
}
